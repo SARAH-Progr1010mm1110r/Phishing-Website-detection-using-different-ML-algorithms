{
  "nbformat": 4,
  "nbformat_minor": 0,
  "metadata": {
    "colab": {
      "name": "Phishing Website detection using different ML algorithms.ipynb",
      "provenance": []
    },
    "kernelspec": {
      "name": "python3",
      "display_name": "Python 3"
    },
    "language_info": {
      "name": "python"
    }
  },
  "cells": [
    {
      "cell_type": "code",
      "metadata": {
        "id": "VpoMrKD-zRzI"
      },
      "source": [
        "#import packages\n",
        "import pandas as pd\n",
        "import matplotlib.pyplot as plt\n",
        "import numpy as np\n",
        "import seaborn as sns \n",
        "from sklearn.model_selection import train_test_split\n",
        "from sklearn.preprocessing import StandardScaler\n",
        "from sklearn.linear_model import LogisticRegression\n",
        "from sklearn.metrics import confusion_matrix\n",
        "from sklearn.ensemble import RandomForestClassifier\n",
        "from xgboost import XGBClassifier\n",
        "from sklearn.tree import DecisionTreeClassifier\n",
        "from sklearn.svm import SVC"
      ],
      "execution_count": 1,
      "outputs": []
    },
    {
      "cell_type": "code",
      "metadata": {
        "id": "0dgIwKbCzolx"
      },
      "source": [
        "#load Dataset and classify as features and label\n",
        "phishingData = pd.read_csv('/content/phishing.txt')\n",
        "X = phishingData.iloc[:,:-1].values\n",
        "y = phishingData.iloc[:,30].values"
      ],
      "execution_count": 2,
      "outputs": []
    },
    {
      "cell_type": "code",
      "metadata": {
        "id": "ybWUzcpCvmfo",
        "colab": {
          "base_uri": "https://localhost:8080/",
          "height": 236
        },
        "outputId": "6b2abb3a-c712-4948-aaec-a89767ee3f70"
      },
      "source": [
        "phishingData.head()"
      ],
      "execution_count": 3,
      "outputs": [
        {
          "output_type": "execute_result",
          "data": {
            "text/plain": [
              "   -1  1  1.1  1.2  -1.1  -1.2  -1.3  -1.4  -1.5  1.3  ...  1.9  1.10  -1.11  \\\n",
              "0   1  1    1    1     1    -1     0     1    -1    1  ...    1     1     -1   \n",
              "1   1  0    1    1     1    -1    -1    -1    -1    1  ...    1     1      1   \n",
              "2   1  0    1    1     1    -1    -1    -1     1    1  ...    1     1     -1   \n",
              "3   1  0   -1    1     1    -1     1     1    -1    1  ...   -1     1     -1   \n",
              "4  -1  0   -1    1    -1    -1     1     1    -1    1  ...    1     1      1   \n",
              "\n",
              "   -1.12  -1.13  -1.14  1.11  1.12  -1.15  -1.16  \n",
              "0     -1      0     -1     1     1      1     -1  \n",
              "1     -1      1     -1     1     0     -1     -1  \n",
              "2     -1      1     -1     1    -1      1     -1  \n",
              "3     -1      0     -1     1     1      1      1  \n",
              "4      1      1     -1     1    -1     -1      1  \n",
              "\n",
              "[5 rows x 31 columns]"
            ],
            "text/html": [
              "\n",
              "  <div id=\"df-7f6f424c-8e38-465f-8f6f-aca27eb50faf\">\n",
              "    <div class=\"colab-df-container\">\n",
              "      <div>\n",
              "<style scoped>\n",
              "    .dataframe tbody tr th:only-of-type {\n",
              "        vertical-align: middle;\n",
              "    }\n",
              "\n",
              "    .dataframe tbody tr th {\n",
              "        vertical-align: top;\n",
              "    }\n",
              "\n",
              "    .dataframe thead th {\n",
              "        text-align: right;\n",
              "    }\n",
              "</style>\n",
              "<table border=\"1\" class=\"dataframe\">\n",
              "  <thead>\n",
              "    <tr style=\"text-align: right;\">\n",
              "      <th></th>\n",
              "      <th>-1</th>\n",
              "      <th>1</th>\n",
              "      <th>1.1</th>\n",
              "      <th>1.2</th>\n",
              "      <th>-1.1</th>\n",
              "      <th>-1.2</th>\n",
              "      <th>-1.3</th>\n",
              "      <th>-1.4</th>\n",
              "      <th>-1.5</th>\n",
              "      <th>1.3</th>\n",
              "      <th>...</th>\n",
              "      <th>1.9</th>\n",
              "      <th>1.10</th>\n",
              "      <th>-1.11</th>\n",
              "      <th>-1.12</th>\n",
              "      <th>-1.13</th>\n",
              "      <th>-1.14</th>\n",
              "      <th>1.11</th>\n",
              "      <th>1.12</th>\n",
              "      <th>-1.15</th>\n",
              "      <th>-1.16</th>\n",
              "    </tr>\n",
              "  </thead>\n",
              "  <tbody>\n",
              "    <tr>\n",
              "      <th>0</th>\n",
              "      <td>1</td>\n",
              "      <td>1</td>\n",
              "      <td>1</td>\n",
              "      <td>1</td>\n",
              "      <td>1</td>\n",
              "      <td>-1</td>\n",
              "      <td>0</td>\n",
              "      <td>1</td>\n",
              "      <td>-1</td>\n",
              "      <td>1</td>\n",
              "      <td>...</td>\n",
              "      <td>1</td>\n",
              "      <td>1</td>\n",
              "      <td>-1</td>\n",
              "      <td>-1</td>\n",
              "      <td>0</td>\n",
              "      <td>-1</td>\n",
              "      <td>1</td>\n",
              "      <td>1</td>\n",
              "      <td>1</td>\n",
              "      <td>-1</td>\n",
              "    </tr>\n",
              "    <tr>\n",
              "      <th>1</th>\n",
              "      <td>1</td>\n",
              "      <td>0</td>\n",
              "      <td>1</td>\n",
              "      <td>1</td>\n",
              "      <td>1</td>\n",
              "      <td>-1</td>\n",
              "      <td>-1</td>\n",
              "      <td>-1</td>\n",
              "      <td>-1</td>\n",
              "      <td>1</td>\n",
              "      <td>...</td>\n",
              "      <td>1</td>\n",
              "      <td>1</td>\n",
              "      <td>1</td>\n",
              "      <td>-1</td>\n",
              "      <td>1</td>\n",
              "      <td>-1</td>\n",
              "      <td>1</td>\n",
              "      <td>0</td>\n",
              "      <td>-1</td>\n",
              "      <td>-1</td>\n",
              "    </tr>\n",
              "    <tr>\n",
              "      <th>2</th>\n",
              "      <td>1</td>\n",
              "      <td>0</td>\n",
              "      <td>1</td>\n",
              "      <td>1</td>\n",
              "      <td>1</td>\n",
              "      <td>-1</td>\n",
              "      <td>-1</td>\n",
              "      <td>-1</td>\n",
              "      <td>1</td>\n",
              "      <td>1</td>\n",
              "      <td>...</td>\n",
              "      <td>1</td>\n",
              "      <td>1</td>\n",
              "      <td>-1</td>\n",
              "      <td>-1</td>\n",
              "      <td>1</td>\n",
              "      <td>-1</td>\n",
              "      <td>1</td>\n",
              "      <td>-1</td>\n",
              "      <td>1</td>\n",
              "      <td>-1</td>\n",
              "    </tr>\n",
              "    <tr>\n",
              "      <th>3</th>\n",
              "      <td>1</td>\n",
              "      <td>0</td>\n",
              "      <td>-1</td>\n",
              "      <td>1</td>\n",
              "      <td>1</td>\n",
              "      <td>-1</td>\n",
              "      <td>1</td>\n",
              "      <td>1</td>\n",
              "      <td>-1</td>\n",
              "      <td>1</td>\n",
              "      <td>...</td>\n",
              "      <td>-1</td>\n",
              "      <td>1</td>\n",
              "      <td>-1</td>\n",
              "      <td>-1</td>\n",
              "      <td>0</td>\n",
              "      <td>-1</td>\n",
              "      <td>1</td>\n",
              "      <td>1</td>\n",
              "      <td>1</td>\n",
              "      <td>1</td>\n",
              "    </tr>\n",
              "    <tr>\n",
              "      <th>4</th>\n",
              "      <td>-1</td>\n",
              "      <td>0</td>\n",
              "      <td>-1</td>\n",
              "      <td>1</td>\n",
              "      <td>-1</td>\n",
              "      <td>-1</td>\n",
              "      <td>1</td>\n",
              "      <td>1</td>\n",
              "      <td>-1</td>\n",
              "      <td>1</td>\n",
              "      <td>...</td>\n",
              "      <td>1</td>\n",
              "      <td>1</td>\n",
              "      <td>1</td>\n",
              "      <td>1</td>\n",
              "      <td>1</td>\n",
              "      <td>-1</td>\n",
              "      <td>1</td>\n",
              "      <td>-1</td>\n",
              "      <td>-1</td>\n",
              "      <td>1</td>\n",
              "    </tr>\n",
              "  </tbody>\n",
              "</table>\n",
              "<p>5 rows × 31 columns</p>\n",
              "</div>\n",
              "      <button class=\"colab-df-convert\" onclick=\"convertToInteractive('df-7f6f424c-8e38-465f-8f6f-aca27eb50faf')\"\n",
              "              title=\"Convert this dataframe to an interactive table.\"\n",
              "              style=\"display:none;\">\n",
              "        \n",
              "  <svg xmlns=\"http://www.w3.org/2000/svg\" height=\"24px\"viewBox=\"0 0 24 24\"\n",
              "       width=\"24px\">\n",
              "    <path d=\"M0 0h24v24H0V0z\" fill=\"none\"/>\n",
              "    <path d=\"M18.56 5.44l.94 2.06.94-2.06 2.06-.94-2.06-.94-.94-2.06-.94 2.06-2.06.94zm-11 1L8.5 8.5l.94-2.06 2.06-.94-2.06-.94L8.5 2.5l-.94 2.06-2.06.94zm10 10l.94 2.06.94-2.06 2.06-.94-2.06-.94-.94-2.06-.94 2.06-2.06.94z\"/><path d=\"M17.41 7.96l-1.37-1.37c-.4-.4-.92-.59-1.43-.59-.52 0-1.04.2-1.43.59L10.3 9.45l-7.72 7.72c-.78.78-.78 2.05 0 2.83L4 21.41c.39.39.9.59 1.41.59.51 0 1.02-.2 1.41-.59l7.78-7.78 2.81-2.81c.8-.78.8-2.07 0-2.86zM5.41 20L4 18.59l7.72-7.72 1.47 1.35L5.41 20z\"/>\n",
              "  </svg>\n",
              "      </button>\n",
              "      \n",
              "  <style>\n",
              "    .colab-df-container {\n",
              "      display:flex;\n",
              "      flex-wrap:wrap;\n",
              "      gap: 12px;\n",
              "    }\n",
              "\n",
              "    .colab-df-convert {\n",
              "      background-color: #E8F0FE;\n",
              "      border: none;\n",
              "      border-radius: 50%;\n",
              "      cursor: pointer;\n",
              "      display: none;\n",
              "      fill: #1967D2;\n",
              "      height: 32px;\n",
              "      padding: 0 0 0 0;\n",
              "      width: 32px;\n",
              "    }\n",
              "\n",
              "    .colab-df-convert:hover {\n",
              "      background-color: #E2EBFA;\n",
              "      box-shadow: 0px 1px 2px rgba(60, 64, 67, 0.3), 0px 1px 3px 1px rgba(60, 64, 67, 0.15);\n",
              "      fill: #174EA6;\n",
              "    }\n",
              "\n",
              "    [theme=dark] .colab-df-convert {\n",
              "      background-color: #3B4455;\n",
              "      fill: #D2E3FC;\n",
              "    }\n",
              "\n",
              "    [theme=dark] .colab-df-convert:hover {\n",
              "      background-color: #434B5C;\n",
              "      box-shadow: 0px 1px 3px 1px rgba(0, 0, 0, 0.15);\n",
              "      filter: drop-shadow(0px 1px 2px rgba(0, 0, 0, 0.3));\n",
              "      fill: #FFFFFF;\n",
              "    }\n",
              "  </style>\n",
              "\n",
              "      <script>\n",
              "        const buttonEl =\n",
              "          document.querySelector('#df-7f6f424c-8e38-465f-8f6f-aca27eb50faf button.colab-df-convert');\n",
              "        buttonEl.style.display =\n",
              "          google.colab.kernel.accessAllowed ? 'block' : 'none';\n",
              "\n",
              "        async function convertToInteractive(key) {\n",
              "          const element = document.querySelector('#df-7f6f424c-8e38-465f-8f6f-aca27eb50faf');\n",
              "          const dataTable =\n",
              "            await google.colab.kernel.invokeFunction('convertToInteractive',\n",
              "                                                     [key], {});\n",
              "          if (!dataTable) return;\n",
              "\n",
              "          const docLinkHtml = 'Like what you see? Visit the ' +\n",
              "            '<a target=\"_blank\" href=https://colab.research.google.com/notebooks/data_table.ipynb>data table notebook</a>'\n",
              "            + ' to learn more about interactive tables.';\n",
              "          element.innerHTML = '';\n",
              "          dataTable['output_type'] = 'display_data';\n",
              "          await google.colab.output.renderOutput(dataTable, element);\n",
              "          const docLink = document.createElement('div');\n",
              "          docLink.innerHTML = docLinkHtml;\n",
              "          element.appendChild(docLink);\n",
              "        }\n",
              "      </script>\n",
              "    </div>\n",
              "  </div>\n",
              "  "
            ]
          },
          "metadata": {},
          "execution_count": 3
        }
      ]
    },
    {
      "cell_type": "code",
      "metadata": {
        "colab": {
          "base_uri": "https://localhost:8080/"
        },
        "id": "DgSXlZJgpe3C",
        "outputId": "a233c531-043f-4ebc-ec1d-023c27a4fee9"
      },
      "source": [
        "phishingData.shape"
      ],
      "execution_count": 4,
      "outputs": [
        {
          "output_type": "execute_result",
          "data": {
            "text/plain": [
              "(11054, 31)"
            ]
          },
          "metadata": {},
          "execution_count": 4
        }
      ]
    },
    {
      "cell_type": "code",
      "metadata": {
        "colab": {
          "base_uri": "https://localhost:8080/"
        },
        "id": "T5Bc9mZiqLzO",
        "outputId": "04b8668e-d836-47f8-a6bc-0a3ed053e7e9"
      },
      "source": [
        "phishingData.isnull().sum()"
      ],
      "execution_count": 5,
      "outputs": [
        {
          "output_type": "execute_result",
          "data": {
            "text/plain": [
              "-1       0\n",
              "1        0\n",
              "1.1      0\n",
              "1.2      0\n",
              "-1.1     0\n",
              "-1.2     0\n",
              "-1.3     0\n",
              "-1.4     0\n",
              "-1.5     0\n",
              "1.3      0\n",
              "1.4      0\n",
              "-1.6     0\n",
              "1.5      0\n",
              "-1.7     0\n",
              "1.6      0\n",
              "-1.8     0\n",
              "-1.9     0\n",
              "-1.10    0\n",
              "0        0\n",
              "1.7      0\n",
              "1.8      0\n",
              "1.9      0\n",
              "1.10     0\n",
              "-1.11    0\n",
              "-1.12    0\n",
              "-1.13    0\n",
              "-1.14    0\n",
              "1.11     0\n",
              "1.12     0\n",
              "-1.15    0\n",
              "-1.16    0\n",
              "dtype: int64"
            ]
          },
          "metadata": {},
          "execution_count": 5
        }
      ]
    },
    {
      "cell_type": "code",
      "metadata": {
        "id": "gqT0W5LHE-pP"
      },
      "source": [
        "phishingData.columns = ['having_IP_Address','URL_length','Shortining_Service','having_At_Symbol',\n",
        "              'double_slash_redirecting','Prefix_suffix','having_Sub_Domain','SSLfinal_State','Domain_registration_length',\n",
        "               'Favion','Port','HTTPS_token','Request_URL','URL_of_Anchor','Links_in_tags','SFH',\n",
        "               'Submitting_to_email','Abnormal_URL','Redirect','on_movesover','RightClick','PopUpwindow','IFrame',\n",
        "                'age_of_domain','DNSRecord','web_traffic','Page_Rank','Google_Index',\n",
        "                'Links_pointing_to_page','Statistical_Report','Result']"
      ],
      "execution_count": 6,
      "outputs": []
    },
    {
      "cell_type": "code",
      "metadata": {
        "id": "vOOb0-7EID-p",
        "colab": {
          "base_uri": "https://localhost:8080/",
          "height": 300
        },
        "outputId": "a6edbde4-607b-4372-f4d6-e104da848d8c"
      },
      "source": [
        "phishingData.head()"
      ],
      "execution_count": 7,
      "outputs": [
        {
          "output_type": "execute_result",
          "data": {
            "text/plain": [
              "   having_IP_Address  URL_length  Shortining_Service  having_At_Symbol  \\\n",
              "0                  1           1                   1                 1   \n",
              "1                  1           0                   1                 1   \n",
              "2                  1           0                   1                 1   \n",
              "3                  1           0                  -1                 1   \n",
              "4                 -1           0                  -1                 1   \n",
              "\n",
              "   double_slash_redirecting  Prefix_suffix  having_Sub_Domain  SSLfinal_State  \\\n",
              "0                         1             -1                  0               1   \n",
              "1                         1             -1                 -1              -1   \n",
              "2                         1             -1                 -1              -1   \n",
              "3                         1             -1                  1               1   \n",
              "4                        -1             -1                  1               1   \n",
              "\n",
              "   Domain_registration_length  Favion  ...  PopUpwindow  IFrame  \\\n",
              "0                          -1       1  ...            1       1   \n",
              "1                          -1       1  ...            1       1   \n",
              "2                           1       1  ...            1       1   \n",
              "3                          -1       1  ...           -1       1   \n",
              "4                          -1       1  ...            1       1   \n",
              "\n",
              "   age_of_domain  DNSRecord  web_traffic  Page_Rank  Google_Index  \\\n",
              "0             -1         -1            0         -1             1   \n",
              "1              1         -1            1         -1             1   \n",
              "2             -1         -1            1         -1             1   \n",
              "3             -1         -1            0         -1             1   \n",
              "4              1          1            1         -1             1   \n",
              "\n",
              "   Links_pointing_to_page  Statistical_Report  Result  \n",
              "0                       1                   1      -1  \n",
              "1                       0                  -1      -1  \n",
              "2                      -1                   1      -1  \n",
              "3                       1                   1       1  \n",
              "4                      -1                  -1       1  \n",
              "\n",
              "[5 rows x 31 columns]"
            ],
            "text/html": [
              "\n",
              "  <div id=\"df-d6659a64-bd66-4f73-8f3d-c53b8502ce4e\">\n",
              "    <div class=\"colab-df-container\">\n",
              "      <div>\n",
              "<style scoped>\n",
              "    .dataframe tbody tr th:only-of-type {\n",
              "        vertical-align: middle;\n",
              "    }\n",
              "\n",
              "    .dataframe tbody tr th {\n",
              "        vertical-align: top;\n",
              "    }\n",
              "\n",
              "    .dataframe thead th {\n",
              "        text-align: right;\n",
              "    }\n",
              "</style>\n",
              "<table border=\"1\" class=\"dataframe\">\n",
              "  <thead>\n",
              "    <tr style=\"text-align: right;\">\n",
              "      <th></th>\n",
              "      <th>having_IP_Address</th>\n",
              "      <th>URL_length</th>\n",
              "      <th>Shortining_Service</th>\n",
              "      <th>having_At_Symbol</th>\n",
              "      <th>double_slash_redirecting</th>\n",
              "      <th>Prefix_suffix</th>\n",
              "      <th>having_Sub_Domain</th>\n",
              "      <th>SSLfinal_State</th>\n",
              "      <th>Domain_registration_length</th>\n",
              "      <th>Favion</th>\n",
              "      <th>...</th>\n",
              "      <th>PopUpwindow</th>\n",
              "      <th>IFrame</th>\n",
              "      <th>age_of_domain</th>\n",
              "      <th>DNSRecord</th>\n",
              "      <th>web_traffic</th>\n",
              "      <th>Page_Rank</th>\n",
              "      <th>Google_Index</th>\n",
              "      <th>Links_pointing_to_page</th>\n",
              "      <th>Statistical_Report</th>\n",
              "      <th>Result</th>\n",
              "    </tr>\n",
              "  </thead>\n",
              "  <tbody>\n",
              "    <tr>\n",
              "      <th>0</th>\n",
              "      <td>1</td>\n",
              "      <td>1</td>\n",
              "      <td>1</td>\n",
              "      <td>1</td>\n",
              "      <td>1</td>\n",
              "      <td>-1</td>\n",
              "      <td>0</td>\n",
              "      <td>1</td>\n",
              "      <td>-1</td>\n",
              "      <td>1</td>\n",
              "      <td>...</td>\n",
              "      <td>1</td>\n",
              "      <td>1</td>\n",
              "      <td>-1</td>\n",
              "      <td>-1</td>\n",
              "      <td>0</td>\n",
              "      <td>-1</td>\n",
              "      <td>1</td>\n",
              "      <td>1</td>\n",
              "      <td>1</td>\n",
              "      <td>-1</td>\n",
              "    </tr>\n",
              "    <tr>\n",
              "      <th>1</th>\n",
              "      <td>1</td>\n",
              "      <td>0</td>\n",
              "      <td>1</td>\n",
              "      <td>1</td>\n",
              "      <td>1</td>\n",
              "      <td>-1</td>\n",
              "      <td>-1</td>\n",
              "      <td>-1</td>\n",
              "      <td>-1</td>\n",
              "      <td>1</td>\n",
              "      <td>...</td>\n",
              "      <td>1</td>\n",
              "      <td>1</td>\n",
              "      <td>1</td>\n",
              "      <td>-1</td>\n",
              "      <td>1</td>\n",
              "      <td>-1</td>\n",
              "      <td>1</td>\n",
              "      <td>0</td>\n",
              "      <td>-1</td>\n",
              "      <td>-1</td>\n",
              "    </tr>\n",
              "    <tr>\n",
              "      <th>2</th>\n",
              "      <td>1</td>\n",
              "      <td>0</td>\n",
              "      <td>1</td>\n",
              "      <td>1</td>\n",
              "      <td>1</td>\n",
              "      <td>-1</td>\n",
              "      <td>-1</td>\n",
              "      <td>-1</td>\n",
              "      <td>1</td>\n",
              "      <td>1</td>\n",
              "      <td>...</td>\n",
              "      <td>1</td>\n",
              "      <td>1</td>\n",
              "      <td>-1</td>\n",
              "      <td>-1</td>\n",
              "      <td>1</td>\n",
              "      <td>-1</td>\n",
              "      <td>1</td>\n",
              "      <td>-1</td>\n",
              "      <td>1</td>\n",
              "      <td>-1</td>\n",
              "    </tr>\n",
              "    <tr>\n",
              "      <th>3</th>\n",
              "      <td>1</td>\n",
              "      <td>0</td>\n",
              "      <td>-1</td>\n",
              "      <td>1</td>\n",
              "      <td>1</td>\n",
              "      <td>-1</td>\n",
              "      <td>1</td>\n",
              "      <td>1</td>\n",
              "      <td>-1</td>\n",
              "      <td>1</td>\n",
              "      <td>...</td>\n",
              "      <td>-1</td>\n",
              "      <td>1</td>\n",
              "      <td>-1</td>\n",
              "      <td>-1</td>\n",
              "      <td>0</td>\n",
              "      <td>-1</td>\n",
              "      <td>1</td>\n",
              "      <td>1</td>\n",
              "      <td>1</td>\n",
              "      <td>1</td>\n",
              "    </tr>\n",
              "    <tr>\n",
              "      <th>4</th>\n",
              "      <td>-1</td>\n",
              "      <td>0</td>\n",
              "      <td>-1</td>\n",
              "      <td>1</td>\n",
              "      <td>-1</td>\n",
              "      <td>-1</td>\n",
              "      <td>1</td>\n",
              "      <td>1</td>\n",
              "      <td>-1</td>\n",
              "      <td>1</td>\n",
              "      <td>...</td>\n",
              "      <td>1</td>\n",
              "      <td>1</td>\n",
              "      <td>1</td>\n",
              "      <td>1</td>\n",
              "      <td>1</td>\n",
              "      <td>-1</td>\n",
              "      <td>1</td>\n",
              "      <td>-1</td>\n",
              "      <td>-1</td>\n",
              "      <td>1</td>\n",
              "    </tr>\n",
              "  </tbody>\n",
              "</table>\n",
              "<p>5 rows × 31 columns</p>\n",
              "</div>\n",
              "      <button class=\"colab-df-convert\" onclick=\"convertToInteractive('df-d6659a64-bd66-4f73-8f3d-c53b8502ce4e')\"\n",
              "              title=\"Convert this dataframe to an interactive table.\"\n",
              "              style=\"display:none;\">\n",
              "        \n",
              "  <svg xmlns=\"http://www.w3.org/2000/svg\" height=\"24px\"viewBox=\"0 0 24 24\"\n",
              "       width=\"24px\">\n",
              "    <path d=\"M0 0h24v24H0V0z\" fill=\"none\"/>\n",
              "    <path d=\"M18.56 5.44l.94 2.06.94-2.06 2.06-.94-2.06-.94-.94-2.06-.94 2.06-2.06.94zm-11 1L8.5 8.5l.94-2.06 2.06-.94-2.06-.94L8.5 2.5l-.94 2.06-2.06.94zm10 10l.94 2.06.94-2.06 2.06-.94-2.06-.94-.94-2.06-.94 2.06-2.06.94z\"/><path d=\"M17.41 7.96l-1.37-1.37c-.4-.4-.92-.59-1.43-.59-.52 0-1.04.2-1.43.59L10.3 9.45l-7.72 7.72c-.78.78-.78 2.05 0 2.83L4 21.41c.39.39.9.59 1.41.59.51 0 1.02-.2 1.41-.59l7.78-7.78 2.81-2.81c.8-.78.8-2.07 0-2.86zM5.41 20L4 18.59l7.72-7.72 1.47 1.35L5.41 20z\"/>\n",
              "  </svg>\n",
              "      </button>\n",
              "      \n",
              "  <style>\n",
              "    .colab-df-container {\n",
              "      display:flex;\n",
              "      flex-wrap:wrap;\n",
              "      gap: 12px;\n",
              "    }\n",
              "\n",
              "    .colab-df-convert {\n",
              "      background-color: #E8F0FE;\n",
              "      border: none;\n",
              "      border-radius: 50%;\n",
              "      cursor: pointer;\n",
              "      display: none;\n",
              "      fill: #1967D2;\n",
              "      height: 32px;\n",
              "      padding: 0 0 0 0;\n",
              "      width: 32px;\n",
              "    }\n",
              "\n",
              "    .colab-df-convert:hover {\n",
              "      background-color: #E2EBFA;\n",
              "      box-shadow: 0px 1px 2px rgba(60, 64, 67, 0.3), 0px 1px 3px 1px rgba(60, 64, 67, 0.15);\n",
              "      fill: #174EA6;\n",
              "    }\n",
              "\n",
              "    [theme=dark] .colab-df-convert {\n",
              "      background-color: #3B4455;\n",
              "      fill: #D2E3FC;\n",
              "    }\n",
              "\n",
              "    [theme=dark] .colab-df-convert:hover {\n",
              "      background-color: #434B5C;\n",
              "      box-shadow: 0px 1px 3px 1px rgba(0, 0, 0, 0.15);\n",
              "      filter: drop-shadow(0px 1px 2px rgba(0, 0, 0, 0.3));\n",
              "      fill: #FFFFFF;\n",
              "    }\n",
              "  </style>\n",
              "\n",
              "      <script>\n",
              "        const buttonEl =\n",
              "          document.querySelector('#df-d6659a64-bd66-4f73-8f3d-c53b8502ce4e button.colab-df-convert');\n",
              "        buttonEl.style.display =\n",
              "          google.colab.kernel.accessAllowed ? 'block' : 'none';\n",
              "\n",
              "        async function convertToInteractive(key) {\n",
              "          const element = document.querySelector('#df-d6659a64-bd66-4f73-8f3d-c53b8502ce4e');\n",
              "          const dataTable =\n",
              "            await google.colab.kernel.invokeFunction('convertToInteractive',\n",
              "                                                     [key], {});\n",
              "          if (!dataTable) return;\n",
              "\n",
              "          const docLinkHtml = 'Like what you see? Visit the ' +\n",
              "            '<a target=\"_blank\" href=https://colab.research.google.com/notebooks/data_table.ipynb>data table notebook</a>'\n",
              "            + ' to learn more about interactive tables.';\n",
              "          element.innerHTML = '';\n",
              "          dataTable['output_type'] = 'display_data';\n",
              "          await google.colab.output.renderOutput(dataTable, element);\n",
              "          const docLink = document.createElement('div');\n",
              "          docLink.innerHTML = docLinkHtml;\n",
              "          element.appendChild(docLink);\n",
              "        }\n",
              "      </script>\n",
              "    </div>\n",
              "  </div>\n",
              "  "
            ]
          },
          "metadata": {},
          "execution_count": 7
        }
      ]
    },
    {
      "cell_type": "code",
      "metadata": {
        "colab": {
          "base_uri": "https://localhost:8080/",
          "height": 934
        },
        "id": "ZWDtsomRrHV8",
        "outputId": "37f9c722-62fa-474b-9747-3a213545d654"
      },
      "source": [
        "phishingData.hist(bins = 30,figsize = (18,16))\n",
        "plt.show()"
      ],
      "execution_count": 8,
      "outputs": [
        {
          "output_type": "display_data",
          "data": {
            "text/plain": [
              "<Figure size 1296x1152 with 36 Axes>"
            ],
            "image/png": "[encoded data removed]"
          },
          "metadata": {
            "needs_background": "light"
          }
        }
      ]
    },
    {
      "cell_type": "code",
      "metadata": {
        "colab": {
          "base_uri": "https://localhost:8080/",
          "height": 833
        },
        "id": "KO7kowcZwDlH",
        "cellView": "code",
        "outputId": "cc249837-06b9-448e-d2be-47b2c6f9c156"
      },
      "source": [
        "plt.figure(figsize=(15,12))\n",
        "sns.heatmap(phishingData.corr())\n",
        "plt.show()"
      ],
      "execution_count": 9,
      "outputs": [
        {
          "output_type": "display_data",
          "data": {
            "text/plain": [
              "<Figure size 1080x864 with 2 Axes>"
            ],
            "image/png": "[encoded data removed]"
          },
          "metadata": {
            "needs_background": "light"
          }
        }
      ]
    },
    {
      "cell_type": "code",
      "metadata": {
        "id": "M4F-SePIzqxA"
      },
      "source": [
        "#split features and label into training and testing data\n",
        "X_train,X_test,y_train,y_test = train_test_split(X,y,test_size=0.3,random_state=4)"
      ],
      "execution_count": 10,
      "outputs": []
    },
    {
      "cell_type": "code",
      "metadata": {
        "id": "FrfevIvYzuZI"
      },
      "source": [
        "#perform feature scaling\n",
        "scalar = StandardScaler()\n",
        "X_train = scalar.fit_transform (X_train)\n",
        "X_test = scalar.fit_transform (X_test) "
      ],
      "execution_count": 11,
      "outputs": []
    },
    {
      "cell_type": "code",
      "metadata": {
        "id": "JyOBmZprzwbV"
      },
      "source": [
        "#Logistic Regression Classifier \n",
        "LRclassifier = LogisticRegression(C=100,random_state=0)\n",
        "LRclassifier.fit(X_train,y_train)\n",
        "LRpredict = LRclassifier.predict(X_test)"
      ],
      "execution_count": 12,
      "outputs": []
    },
    {
      "cell_type": "code",
      "metadata": {
        "id": "NmfXEPgwz1c2",
        "colab": {
          "base_uri": "https://localhost:8080/"
        },
        "outputId": "e8fd51fc-4d38-4a49-f6b0-b5d3aa874ca0"
      },
      "source": [
        "#LRC training score\n",
        "LRclassifier.score(X_train,y_train)"
      ],
      "execution_count": 13,
      "outputs": [
        {
          "output_type": "execute_result",
          "data": {
            "text/plain": [
              "0.9298177588212485"
            ]
          },
          "metadata": {},
          "execution_count": 13
        }
      ]
    },
    {
      "cell_type": "code",
      "metadata": {
        "id": "iXppb1ePz32B",
        "colab": {
          "base_uri": "https://localhost:8080/"
        },
        "outputId": "9f40d68f-982d-403b-87da-214872495aea"
      },
      "source": [
        "#LRC test score\n",
        "LRclassifier.score(X_test,y_test)"
      ],
      "execution_count": 14,
      "outputs": [
        {
          "output_type": "execute_result",
          "data": {
            "text/plain": [
              "0.9267410310521556"
            ]
          },
          "metadata": {},
          "execution_count": 14
        }
      ]
    },
    {
      "cell_type": "code",
      "metadata": {
        "id": "iNmTJJ-xz57C",
        "colab": {
          "base_uri": "https://localhost:8080/"
        },
        "outputId": "42758e88-6416-493a-be97-674785f8e066"
      },
      "source": [
        "#confusion matrix for printing count of misclassified samples in the test data prediction\n",
        "confusionMatrixL1 = confusion_matrix(y_test,LRpredict)\n",
        "confusionMatrixL1"
      ],
      "execution_count": 15,
      "outputs": [
        {
          "output_type": "execute_result",
          "data": {
            "text/plain": [
              "array([[1355,  155],\n",
              "       [  88, 1719]])"
            ]
          },
          "metadata": {},
          "execution_count": 15
        }
      ]
    },
    {
      "cell_type": "code",
      "metadata": {
        "id": "1Kqljwe2GFD3"
      },
      "source": [
        "# Random Forest Classifier\n",
        "Forest = RandomForestClassifier(random_state=0)\n",
        "Forest.fit(X_train,y_train)\n",
        "FRCpredict= Forest.predict(X_test)"
      ],
      "execution_count": 16,
      "outputs": []
    },
    {
      "cell_type": "code",
      "metadata": {
        "colab": {
          "base_uri": "https://localhost:8080/"
        },
        "id": "75Id_dXgGQNR",
        "outputId": "75559c87-801f-4bf6-f053-1833305e69e7"
      },
      "source": [
        "#RFC training score\n",
        "Forest.score(X_train,y_train)"
      ],
      "execution_count": 17,
      "outputs": [
        {
          "output_type": "execute_result",
          "data": {
            "text/plain": [
              "0.9908233165309551"
            ]
          },
          "metadata": {},
          "execution_count": 17
        }
      ]
    },
    {
      "cell_type": "code",
      "metadata": {
        "colab": {
          "base_uri": "https://localhost:8080/"
        },
        "id": "MTYvj5M3GTyu",
        "outputId": "c3287b80-1a9d-4b39-fbbd-48d63d227865"
      },
      "source": [
        "#RFC test score\n",
        "Forest.score(X_test,y_test)"
      ],
      "execution_count": 18,
      "outputs": [
        {
          "output_type": "execute_result",
          "data": {
            "text/plain": [
              "0.9716611395839614"
            ]
          },
          "metadata": {},
          "execution_count": 18
        }
      ]
    },
    {
      "cell_type": "code",
      "metadata": {
        "colab": {
          "base_uri": "https://localhost:8080/"
        },
        "id": "yq28eMvtHAL_",
        "outputId": "6522cad8-0f1e-4dc1-a42a-8380c6c92da4"
      },
      "source": [
        "confusionMatrixR1 = confusion_matrix(y_test,FRCpredict)\n",
        "confusionMatrixR1"
      ],
      "execution_count": 19,
      "outputs": [
        {
          "output_type": "execute_result",
          "data": {
            "text/plain": [
              "array([[1446,   64],\n",
              "       [  30, 1777]])"
            ]
          },
          "metadata": {},
          "execution_count": 19
        }
      ]
    },
    {
      "cell_type": "code",
      "metadata": {
        "id": "Lvhv-OyTIZDa"
      },
      "source": [
        "xgb = XGBClassifier(random_state=0)\n",
        "#fit the model\n",
        "xgb.fit(X_train, y_train)\n",
        "XGBpredict= xgb.predict(X_test)"
      ],
      "execution_count": 20,
      "outputs": []
    },
    {
      "cell_type": "code",
      "metadata": {
        "colab": {
          "base_uri": "https://localhost:8080/"
        },
        "id": "w1u5VC2pI-zJ",
        "outputId": "ab64a5a4-6fe4-408b-9ab1-2b595e0cccab"
      },
      "source": [
        "#XGBoost training score\n",
        "xgb.score(X_train,y_train)"
      ],
      "execution_count": 21,
      "outputs": [
        {
          "output_type": "execute_result",
          "data": {
            "text/plain": [
              "0.9510146051441127"
            ]
          },
          "metadata": {},
          "execution_count": 21
        }
      ]
    },
    {
      "cell_type": "code",
      "metadata": {
        "colab": {
          "base_uri": "https://localhost:8080/"
        },
        "id": "PYbYYk13I-zK",
        "outputId": "b14d6cab-0645-4169-d93e-fa62acd03031"
      },
      "source": [
        "#XGBoost test score\n",
        "xgb.score(X_test,y_test)"
      ],
      "execution_count": 22,
      "outputs": [
        {
          "output_type": "execute_result",
          "data": {
            "text/plain": [
              "0.9517636418450407"
            ]
          },
          "metadata": {},
          "execution_count": 22
        }
      ]
    },
    {
      "cell_type": "code",
      "metadata": {
        "colab": {
          "base_uri": "https://localhost:8080/"
        },
        "id": "jvLzidRzI-zK",
        "outputId": "63540132-28e3-4499-f7e0-e25d1989d5b7"
      },
      "source": [
        "confusionMatrixX1 = confusion_matrix(y_test,FRCpredict)\n",
        "confusionMatrixX1"
      ],
      "execution_count": 23,
      "outputs": [
        {
          "output_type": "execute_result",
          "data": {
            "text/plain": [
              "array([[1446,   64],\n",
              "       [  30, 1777]])"
            ]
          },
          "metadata": {},
          "execution_count": 23
        }
      ]
    },
    {
      "cell_type": "code",
      "metadata": {
        "id": "OE9RuJsJwDf7"
      },
      "source": [
        "Tree = DecisionTreeClassifier(random_state=0)\n",
        "# fit the model \n",
        "Tree.fit(X_train, y_train)\n",
        "DTCpredict= Tree.predict(X_test)"
      ],
      "execution_count": 24,
      "outputs": []
    },
    {
      "cell_type": "code",
      "metadata": {
        "colab": {
          "base_uri": "https://localhost:8080/"
        },
        "id": "T7chTSvowDVt",
        "outputId": "46c3a91d-7785-4c0e-92d7-a4a8c71118e0"
      },
      "source": [
        "#DTC training score\n",
        "print(Tree.score(X_train,y_train))"
      ],
      "execution_count": 25,
      "outputs": [
        {
          "output_type": "stream",
          "name": "stdout",
          "text": [
            "0.9908233165309551\n"
          ]
        }
      ]
    },
    {
      "cell_type": "code",
      "metadata": {
        "colab": {
          "base_uri": "https://localhost:8080/"
        },
        "id": "iJ-xqCvOwDIR",
        "outputId": "d8f1a8ff-229a-4668-ab2c-bc3ab44251b0"
      },
      "source": [
        "#Tree test score\n",
        "print(Tree.score(X_test,y_test))"
      ],
      "execution_count": 26,
      "outputs": [
        {
          "output_type": "stream",
          "name": "stdout",
          "text": [
            "0.964124208622249\n"
          ]
        }
      ]
    },
    {
      "cell_type": "code",
      "metadata": {
        "id": "RSmRT-rO8FVv",
        "colab": {
          "base_uri": "https://localhost:8080/"
        },
        "outputId": "e3c23664-2687-4211-ef3c-9c629c456ba5"
      },
      "source": [
        "confusionMatrixD1 = confusion_matrix(y_test,DTCpredict)\n",
        "confusionMatrixD1"
      ],
      "execution_count": 27,
      "outputs": [
        {
          "output_type": "execute_result",
          "data": {
            "text/plain": [
              "array([[1439,   71],\n",
              "       [  48, 1759]])"
            ]
          },
          "metadata": {},
          "execution_count": 27
        }
      ]
    },
    {
      "cell_type": "code",
      "metadata": {
        "id": "apC-YJu-yjYR"
      },
      "source": [
        "svc= SVC(random_state=0) \n",
        "#fit the model\n",
        "svc.fit(X_train, y_train)\n",
        "SVCpredict= svc.predict(X_test)"
      ],
      "execution_count": 28,
      "outputs": []
    },
    {
      "cell_type": "code",
      "metadata": {
        "id": "c5JoN_IHyjNl",
        "colab": {
          "base_uri": "https://localhost:8080/"
        },
        "outputId": "211e2b23-7ed0-4f1d-aae2-80899a18a9e0"
      },
      "source": [
        "#SVC training score\n",
        "print(svc.score(X_train,y_train))"
      ],
      "execution_count": 29,
      "outputs": [
        {
          "output_type": "stream",
          "name": "stdout",
          "text": [
            "0.9572185601654388\n"
          ]
        }
      ]
    },
    {
      "cell_type": "code",
      "metadata": {
        "id": "ofo8KbSOyi88",
        "colab": {
          "base_uri": "https://localhost:8080/"
        },
        "outputId": "f46c4286-fdad-4933-e12a-762454614899"
      },
      "source": [
        "#SVC test score\n",
        "print(svc.score(X_test,y_test))"
      ],
      "execution_count": 30,
      "outputs": [
        {
          "output_type": "stream",
          "name": "stdout",
          "text": [
            "0.9508592101296353\n"
          ]
        }
      ]
    },
    {
      "cell_type": "code",
      "metadata": {
        "colab": {
          "base_uri": "https://localhost:8080/"
        },
        "id": "1dowCnIdM2kq",
        "outputId": "46621658-59f4-4019-ed6a-3363636db575"
      },
      "source": [
        "confusionMatrixS1 = confusion_matrix(y_test,SVCpredict)\n",
        "confusionMatrixS1"
      ],
      "execution_count": 31,
      "outputs": [
        {
          "output_type": "execute_result",
          "data": {
            "text/plain": [
              "array([[1402,  108],\n",
              "       [  55, 1752]])"
            ]
          },
          "metadata": {},
          "execution_count": 31
        }
      ]
    },
    {
      "cell_type": "code",
      "metadata": {
        "id": "s2LuJjq7z8Im"
      },
      "source": [
        "# classify as features(Prefix_Suffix and URL_of_Anchor) and label with index 5\n",
        "X = phishingData.iloc[0:5,[6,14]].values\n",
        "y = phishingData.iloc[0:5,30].values"
      ],
      "execution_count": 32,
      "outputs": []
    },
    {
      "cell_type": "code",
      "metadata": {
        "id": "trF_0Uu0z_KY"
      },
      "source": [
        "#split features and label into training ang testing data\n",
        "X_train,X_test,y_train,y_test = train_test_split(X,y,test_size=0.3,random_state=4)"
      ],
      "execution_count": 33,
      "outputs": []
    },
    {
      "cell_type": "code",
      "metadata": {
        "id": "1W4PqdIb0BYO"
      },
      "source": [
        "#perform feature scaling\n",
        "scalar = StandardScaler()\n",
        "X_train = scalar.fit_transform (X_train)\n",
        "X_test = scalar.fit_transform (X_test) "
      ],
      "execution_count": 34,
      "outputs": []
    },
    {
      "cell_type": "code",
      "metadata": {
        "id": "ZgL4WRLK0DiX",
        "colab": {
          "base_uri": "https://localhost:8080/"
        },
        "outputId": "4ce3c34b-9f6b-4f6e-bf8b-d6161f917a3a"
      },
      "source": [
        "#Logistic Regression Classifier \n",
        "LRclassifier1 = LogisticRegression(C=100,random_state=0)\n",
        "LRclassifier1.fit(X_train,y_train)"
      ],
      "execution_count": 35,
      "outputs": [
        {
          "output_type": "execute_result",
          "data": {
            "text/plain": [
              "LogisticRegression(C=100, random_state=0)"
            ]
          },
          "metadata": {},
          "execution_count": 35
        }
      ]
    },
    {
      "cell_type": "code",
      "metadata": {
        "id": "-qoKjafZOF7L"
      },
      "source": [
        "LRpredict1 = LRclassifier1.predict(X_test)"
      ],
      "execution_count": 36,
      "outputs": []
    },
    {
      "cell_type": "code",
      "metadata": {
        "id": "O--Hr77c0I5_",
        "colab": {
          "base_uri": "https://localhost:8080/"
        },
        "outputId": "7feff4aa-9aa3-4a0b-e5a4-28e1b60589ba"
      },
      "source": [
        "#LRC training score\n",
        "LRclassifier1.score(X_train,y_train)"
      ],
      "execution_count": 37,
      "outputs": [
        {
          "output_type": "execute_result",
          "data": {
            "text/plain": [
              "1.0"
            ]
          },
          "metadata": {},
          "execution_count": 37
        }
      ]
    },
    {
      "cell_type": "code",
      "metadata": {
        "id": "yzUQLrKG0JqC",
        "colab": {
          "base_uri": "https://localhost:8080/"
        },
        "outputId": "adea4b67-7664-4602-9611-6f50433c3578"
      },
      "source": [
        "#LRC test score\n",
        "LRclassifier1.score(X_test,y_test)"
      ],
      "execution_count": 38,
      "outputs": [
        {
          "output_type": "execute_result",
          "data": {
            "text/plain": [
              "1.0"
            ]
          },
          "metadata": {},
          "execution_count": 38
        }
      ]
    },
    {
      "cell_type": "code",
      "metadata": {
        "id": "zg8AQ0CQ1k6c",
        "colab": {
          "base_uri": "https://localhost:8080/"
        },
        "outputId": "53abb9ca-a1e7-423a-f8ab-84242043228b"
      },
      "source": [
        "#confusion matrix for printing count of misclassified samples in the test data prediction\n",
        "LRconfusionMatrixL2 = confusion_matrix(y_test,LRpredict1)\n",
        "LRconfusionMatrixL2"
      ],
      "execution_count": 39,
      "outputs": [
        {
          "output_type": "execute_result",
          "data": {
            "text/plain": [
              "array([[1, 0],\n",
              "       [0, 1]])"
            ]
          },
          "metadata": {},
          "execution_count": 39
        }
      ]
    },
    {
      "cell_type": "code",
      "metadata": {
        "colab": {
          "base_uri": "https://localhost:8080/",
          "height": 622
        },
        "id": "Q5ck_5yW1kwV",
        "outputId": "2a3af536-bc8e-4e30-be34-1223cc1e0023"
      },
      "source": [
        "#visualize the Test set\n",
        "xx, yy = np.mgrid[-5:5:.01, -5:5:.01]\n",
        "grid = np.c_[xx.ravel(), yy.ravel()]\n",
        "probs = LRclassifier1.predict_proba(grid)[:, 1].reshape(xx.shape)\n",
        "\n",
        "print(probs)\n",
        "\n",
        "f, ax = plt.subplots(figsize=(8, 6))\n",
        "contour = ax.contourf(xx, yy, probs, 25, cmap=\"RdBu\",\n",
        " vmin=0, vmax=1)\n",
        "\n",
        "ax_c = f.colorbar(contour)\n",
        "ax_c.set_label(\"$P(y = 1)$\")\n",
        "ax_c.set_ticks([0, .25, .5, .75, 1])\n",
        "ax.scatter(X_test[:, 0], X_test[:, 1],c = (y_test == 1 ), s=50,\n",
        " cmap=\"RdBu\", vmin=-.2, vmax=1.2,\n",
        " edgecolor=\"white\", linewidth=1)\n",
        "\n",
        "ax.set(aspect=\"equal\",\n",
        " xlim=(-5, 5), ylim=(-5, 5),\n",
        " xlabel=\"$X_1$\", ylabel=\"$X_2$\")\n",
        "\n",
        "plt.show()"
      ],
      "execution_count": 40,
      "outputs": [
        {
          "output_type": "stream",
          "name": "stdout",
          "text": [
            "[[1.69212931e-11 1.70416335e-11 1.71628297e-11 ... 1.98095309e-08\n",
            "  1.99504118e-08 2.00922946e-08]\n",
            " [1.75868947e-11 1.77119688e-11 1.78379323e-11 ... 2.05887418e-08\n",
            "  2.07351643e-08 2.08826281e-08]\n",
            " [1.82786780e-11 1.84086718e-11 1.85395901e-11 ... 2.13986032e-08\n",
            "  2.15507852e-08 2.17040495e-08]\n",
            " ...\n",
            " [9.99998835e-01 9.99998844e-01 9.99998852e-01 ... 9.99999999e-01\n",
            "  9.99999999e-01 9.99999999e-01]\n",
            " [9.99998879e-01 9.99998887e-01 9.99998895e-01 ... 9.99999999e-01\n",
            "  9.99999999e-01 9.99999999e-01]\n",
            " [9.99998922e-01 9.99998929e-01 9.99998937e-01 ... 9.99999999e-01\n",
            "  9.99999999e-01 9.99999999e-01]]\n"
          ]
        },
        {
          "output_type": "display_data",
          "data": {
            "text/plain": [
              "<Figure size 576x432 with 2 Axes>"
            ],
            "image/png": "[encoded data removed]"
          },
          "metadata": {
            "needs_background": "light"
          }
        }
      ]
    },
    {
      "cell_type": "code",
      "metadata": {
        "colab": {
          "base_uri": "https://localhost:8080/"
        },
        "id": "_GHdIaKzO0uQ",
        "outputId": "209e3eb6-b16d-4187-9863-8d8e2566c434"
      },
      "source": [
        "RFclassifier1 = RandomForestClassifier(random_state=0)\n",
        "RFclassifier1.fit(X_train,y_train)"
      ],
      "execution_count": 41,
      "outputs": [
        {
          "output_type": "execute_result",
          "data": {
            "text/plain": [
              "RandomForestClassifier(random_state=0)"
            ]
          },
          "metadata": {},
          "execution_count": 41
        }
      ]
    },
    {
      "cell_type": "code",
      "metadata": {
        "id": "8-_n38hrQBp6"
      },
      "source": [
        "RFpredict1 = RFclassifier1.predict(X_test)"
      ],
      "execution_count": 42,
      "outputs": []
    },
    {
      "cell_type": "code",
      "metadata": {
        "colab": {
          "base_uri": "https://localhost:8080/"
        },
        "id": "_r0URf3cQESO",
        "outputId": "abb8c6fd-f60f-4a59-84b0-9971d68c6159"
      },
      "source": [
        "#RFC training score\n",
        "RFclassifier1.score(X_train,y_train)"
      ],
      "execution_count": 43,
      "outputs": [
        {
          "output_type": "execute_result",
          "data": {
            "text/plain": [
              "1.0"
            ]
          },
          "metadata": {},
          "execution_count": 43
        }
      ]
    },
    {
      "cell_type": "code",
      "metadata": {
        "colab": {
          "base_uri": "https://localhost:8080/"
        },
        "id": "gWsNB-xTQJ5k",
        "outputId": "9217221d-3155-4ad8-9001-b4dac5e5add7"
      },
      "source": [
        "#RFC training score\n",
        "RFclassifier1.score(X_test,y_test)"
      ],
      "execution_count": 44,
      "outputs": [
        {
          "output_type": "execute_result",
          "data": {
            "text/plain": [
              "1.0"
            ]
          },
          "metadata": {},
          "execution_count": 44
        }
      ]
    },
    {
      "cell_type": "code",
      "metadata": {
        "colab": {
          "base_uri": "https://localhost:8080/"
        },
        "id": "SN56fq7nSDMI",
        "outputId": "33439db2-a4ae-4f45-bbef-6e887e22f8e6"
      },
      "source": [
        "#confusion matrix for printing count of misclassified samples in the test data prediction\n",
        "confusionMatrixR2 = confusion_matrix(y_test,RFpredict1)\n",
        "confusionMatrixR2"
      ],
      "execution_count": 45,
      "outputs": [
        {
          "output_type": "execute_result",
          "data": {
            "text/plain": [
              "array([[1, 0],\n",
              "       [0, 1]])"
            ]
          },
          "metadata": {},
          "execution_count": 45
        }
      ]
    },
    {
      "cell_type": "code",
      "metadata": {
        "colab": {
          "base_uri": "https://localhost:8080/",
          "height": 518
        },
        "id": "G-xLzKIcQSpT",
        "outputId": "8941dc26-2ebd-476f-f466-57ff3e9bf8a7"
      },
      "source": [
        "#visualize the Test set\n",
        "xx, yy = np.mgrid[-5:5:.01, -5:5:.01]\n",
        "grid = np.c_[xx.ravel(), yy.ravel()]\n",
        "probs = RFclassifier1.predict_proba(grid)[:, 1].reshape(xx.shape)\n",
        "\n",
        "print(probs)\n",
        "\n",
        "f, ax = plt.subplots(figsize=(8, 6))\n",
        "contour = ax.contourf(xx, yy, probs, 25, cmap=\"RdBu\",\n",
        " vmin=0, vmax=1)\n",
        "\n",
        "ax_c = f.colorbar(contour)\n",
        "ax_c.set_label(\"$P(y = 1)$\")\n",
        "ax_c.set_ticks([0, .25, .5, .75, 1])\n",
        "ax.scatter(X_test[:, 0], X_test[:, 1],c = (y_test == 1 ), s=50,\n",
        " cmap=\"RdBu\", vmin=-.2, vmax=1.2,\n",
        " edgecolor=\"white\", linewidth=1)\n",
        "\n",
        "ax.set(aspect=\"equal\",\n",
        " xlim=(-5, 5), ylim=(-5, 5),\n",
        " xlabel=\"$X_1$\", ylabel=\"$X_2$\")\n",
        "\n",
        "plt.show()"
      ],
      "execution_count": 46,
      "outputs": [
        {
          "output_type": "stream",
          "name": "stdout",
          "text": [
            "[[0.1  0.1  0.1  ... 0.19 0.19 0.19]\n",
            " [0.1  0.1  0.1  ... 0.19 0.19 0.19]\n",
            " [0.1  0.1  0.1  ... 0.19 0.19 0.19]\n",
            " ...\n",
            " [0.52 0.52 0.52 ... 0.73 0.73 0.73]\n",
            " [0.52 0.52 0.52 ... 0.73 0.73 0.73]\n",
            " [0.52 0.52 0.52 ... 0.73 0.73 0.73]]\n"
          ]
        },
        {
          "output_type": "display_data",
          "data": {
            "text/plain": [
              "<Figure size 576x432 with 2 Axes>"
            ],
            "image/png": "[encoded data removed]"
          },
          "metadata": {
            "needs_background": "light"
          }
        }
      ]
    },
    {
      "cell_type": "code",
      "metadata": {
        "id": "qSQBp3OlTtmD",
        "colab": {
          "base_uri": "https://localhost:8080/"
        },
        "outputId": "3d98127e-8e62-4747-911f-534afb40bc60"
      },
      "source": [
        "xgb2 = XGBClassifier(random_state=0)\n",
        "#fit the model\n",
        "xgb2.fit(X_train, y_train)"
      ],
      "execution_count": 47,
      "outputs": [
        {
          "output_type": "execute_result",
          "data": {
            "text/plain": [
              "XGBClassifier()"
            ]
          },
          "metadata": {},
          "execution_count": 47
        }
      ]
    },
    {
      "cell_type": "code",
      "metadata": {
        "id": "ybFhJch8VFdM"
      },
      "source": [
        "XGBpredict1= xgb2.predict(X_test)"
      ],
      "execution_count": 48,
      "outputs": []
    },
    {
      "cell_type": "code",
      "metadata": {
        "colab": {
          "base_uri": "https://localhost:8080/"
        },
        "id": "wmDxhsaATtmK",
        "outputId": "09df7639-62c4-4d81-9508-949f96d6081e"
      },
      "source": [
        "#XGBoost training score\n",
        "xgb2.score(X_train,y_train)"
      ],
      "execution_count": 49,
      "outputs": [
        {
          "output_type": "execute_result",
          "data": {
            "text/plain": [
              "0.6666666666666666"
            ]
          },
          "metadata": {},
          "execution_count": 49
        }
      ]
    },
    {
      "cell_type": "code",
      "metadata": {
        "colab": {
          "base_uri": "https://localhost:8080/"
        },
        "id": "WeoJHlS2TtmL",
        "outputId": "6cbeb287-a774-488d-e5b1-4cdd66ff763c"
      },
      "source": [
        "#XGBoost test score\n",
        "xgb2.score(X_test,y_test)"
      ],
      "execution_count": 50,
      "outputs": [
        {
          "output_type": "execute_result",
          "data": {
            "text/plain": [
              "0.5"
            ]
          },
          "metadata": {},
          "execution_count": 50
        }
      ]
    },
    {
      "cell_type": "code",
      "metadata": {
        "colab": {
          "base_uri": "https://localhost:8080/"
        },
        "id": "161bBZ3PTtmL",
        "outputId": "fa1f96f2-d953-4645-f7a4-9a13bd393656"
      },
      "source": [
        "confusionMatrixXg1 = confusion_matrix(y_test,XGBpredict1)\n",
        "confusionMatrixXg1"
      ],
      "execution_count": 51,
      "outputs": [
        {
          "output_type": "execute_result",
          "data": {
            "text/plain": [
              "array([[1, 0],\n",
              "       [1, 0]])"
            ]
          },
          "metadata": {},
          "execution_count": 51
        }
      ]
    },
    {
      "cell_type": "code",
      "metadata": {
        "id": "p-M6qeHCWKIz",
        "colab": {
          "base_uri": "https://localhost:8080/",
          "height": 514
        },
        "outputId": "f9c7bcf6-3900-4246-9ebf-f471900e27e5"
      },
      "source": [
        "#visualize the Test set\n",
        "xx, yy = np.mgrid[-5:5:.01, -5:5:.01]\n",
        "grid = np.c_[xx.ravel(), yy.ravel()]\n",
        "probs = xgb2.predict_proba(grid)[:, 1].reshape(xx.shape)\n",
        "\n",
        "print(probs)\n",
        "\n",
        "f, ax = plt.subplots(figsize=(8, 6))\n",
        "contour = ax.contourf(xx, yy, probs, 25, cmap=\"RdBu\",\n",
        " vmin=0, vmax=1)\n",
        "\n",
        "ax_c = f.colorbar(contour)\n",
        "ax_c.set_label(\"$P(y = 1)$\")\n",
        "ax_c.set_ticks([0, .25, .5, .75, 1])\n",
        "ax.scatter(X_test[:, 0], X_test[:, 1],c = (y_test == 1 ), s=50,\n",
        " cmap=\"RdBu\", vmin=-.2, vmax=1.2,\n",
        " edgecolor=\"white\", linewidth=1)\n",
        "\n",
        "ax.set(aspect=\"equal\",\n",
        " xlim=(-5, 5), ylim=(-5, 5),\n",
        " xlabel=\"$X_1$\", ylabel=\"$X_2$\")\n",
        "\n",
        "plt.show()"
      ],
      "execution_count": 52,
      "outputs": [
        {
          "output_type": "stream",
          "name": "stdout",
          "text": [
            "[[0.3358685 0.3358685 0.3358685 ... 0.3358685 0.3358685 0.3358685]\n",
            " [0.3358685 0.3358685 0.3358685 ... 0.3358685 0.3358685 0.3358685]\n",
            " [0.3358685 0.3358685 0.3358685 ... 0.3358685 0.3358685 0.3358685]\n",
            " ...\n",
            " [0.3358685 0.3358685 0.3358685 ... 0.3358685 0.3358685 0.3358685]\n",
            " [0.3358685 0.3358685 0.3358685 ... 0.3358685 0.3358685 0.3358685]\n",
            " [0.3358685 0.3358685 0.3358685 ... 0.3358685 0.3358685 0.3358685]]\n"
          ]
        },
        {
          "output_type": "display_data",
          "data": {
            "text/plain": [
              "<Figure size 576x432 with 2 Axes>"
            ],
            "image/png": "[encoded data removed]"
          },
          "metadata": {
            "needs_background": "light"
          }
        }
      ]
    },
    {
      "cell_type": "code",
      "metadata": {
        "colab": {
          "base_uri": "https://localhost:8080/"
        },
        "id": "Gt3HnZ6XWcrU",
        "outputId": "9c8fdc89-1cc9-42a6-a4db-1a320be30b8e"
      },
      "source": [
        "Tree2 = DecisionTreeClassifier(random_state=0)\n",
        "# fit the model \n",
        "Tree2.fit(X_train, y_train)"
      ],
      "execution_count": 53,
      "outputs": [
        {
          "output_type": "execute_result",
          "data": {
            "text/plain": [
              "DecisionTreeClassifier(random_state=0)"
            ]
          },
          "metadata": {},
          "execution_count": 53
        }
      ]
    },
    {
      "cell_type": "code",
      "metadata": {
        "id": "FTdqNucJWqFH"
      },
      "source": [
        "DTCpredict1= Tree2.predict(X_test)"
      ],
      "execution_count": 54,
      "outputs": []
    },
    {
      "cell_type": "code",
      "metadata": {
        "colab": {
          "base_uri": "https://localhost:8080/"
        },
        "id": "tVsRkFXFWcrV",
        "outputId": "3bcad641-eb08-4241-b225-d10d3890a092"
      },
      "source": [
        "#DTC training score\n",
        "print(Tree2.score(X_train,y_train))"
      ],
      "execution_count": 55,
      "outputs": [
        {
          "output_type": "stream",
          "name": "stdout",
          "text": [
            "1.0\n"
          ]
        }
      ]
    },
    {
      "cell_type": "code",
      "metadata": {
        "colab": {
          "base_uri": "https://localhost:8080/"
        },
        "id": "Dl6DCXfZWcrV",
        "outputId": "6633ad49-4163-4140-aefd-f2de456e78a5"
      },
      "source": [
        "#Tree test score\n",
        "print(Tree2.score(X_test,y_test))"
      ],
      "execution_count": 56,
      "outputs": [
        {
          "output_type": "stream",
          "name": "stdout",
          "text": [
            "1.0\n"
          ]
        }
      ]
    },
    {
      "cell_type": "code",
      "metadata": {
        "colab": {
          "base_uri": "https://localhost:8080/"
        },
        "id": "VZBHYzyfWcrV",
        "outputId": "1b0923e2-9cfe-4780-b00f-f14e3159d4cf"
      },
      "source": [
        "confusionMatrixD2 = confusion_matrix(y_test,DTCpredict1)\n",
        "confusionMatrixD2"
      ],
      "execution_count": 57,
      "outputs": [
        {
          "output_type": "execute_result",
          "data": {
            "text/plain": [
              "array([[1, 0],\n",
              "       [0, 1]])"
            ]
          },
          "metadata": {},
          "execution_count": 57
        }
      ]
    },
    {
      "cell_type": "code",
      "metadata": {
        "colab": {
          "base_uri": "https://localhost:8080/",
          "height": 518
        },
        "id": "JLaqARYeW-Nx",
        "outputId": "591e88df-4a64-4ffc-8ab7-2ef5a62b18e2"
      },
      "source": [
        "#visualize the Test set\n",
        "xx, yy = np.mgrid[-5:5:.01, -5:5:.01]\n",
        "grid = np.c_[xx.ravel(), yy.ravel()]\n",
        "probs = Tree2.predict_proba(grid)[:, 1].reshape(xx.shape)\n",
        "\n",
        "print(probs)\n",
        "\n",
        "f, ax = plt.subplots(figsize=(8, 6))\n",
        "contour = ax.contourf(xx, yy, probs, 25, cmap=\"RdBu\",\n",
        " vmin=0, vmax=1)\n",
        "\n",
        "ax_c = f.colorbar(contour)\n",
        "ax_c.set_label(\"$P(y = 1)$\")\n",
        "ax_c.set_ticks([0, .25, .5, .75, 1])\n",
        "ax.scatter(X_test[:, 0], X_test[:, 1],c = (y_test == 1 ), s=50,\n",
        " cmap=\"RdBu\", vmin=-.2, vmax=1.2,\n",
        " edgecolor=\"white\", linewidth=1)\n",
        "\n",
        "ax.set(aspect=\"equal\",\n",
        " xlim=(-5, 5), ylim=(-5, 5),\n",
        " xlabel=\"$X_1$\", ylabel=\"$X_2$\")\n",
        "\n",
        "plt.show()"
      ],
      "execution_count": 58,
      "outputs": [
        {
          "output_type": "stream",
          "name": "stdout",
          "text": [
            "[[0. 0. 0. ... 0. 0. 0.]\n",
            " [0. 0. 0. ... 0. 0. 0.]\n",
            " [0. 0. 0. ... 0. 0. 0.]\n",
            " ...\n",
            " [1. 1. 1. ... 1. 1. 1.]\n",
            " [1. 1. 1. ... 1. 1. 1.]\n",
            " [1. 1. 1. ... 1. 1. 1.]]\n"
          ]
        },
        {
          "output_type": "display_data",
          "data": {
            "text/plain": [
              "<Figure size 576x432 with 2 Axes>"
            ],
            "image/png": "[encoded data removed]"
          },
          "metadata": {
            "needs_background": "light"
          }
        }
      ]
    },
    {
      "cell_type": "code",
      "metadata": {
        "colab": {
          "base_uri": "https://localhost:8080/"
        },
        "id": "nrERHATsXRQN",
        "outputId": "99bced23-1e65-46bf-e745-a565e828b9aa"
      },
      "source": [
        "svc2= SVC(probability=True,random_state=0) \n",
        "#fit the model\n",
        "svc2.fit(X_train, y_train)"
      ],
      "execution_count": 59,
      "outputs": [
        {
          "output_type": "execute_result",
          "data": {
            "text/plain": [
              "SVC(probability=True, random_state=0)"
            ]
          },
          "metadata": {},
          "execution_count": 59
        }
      ]
    },
    {
      "cell_type": "code",
      "metadata": {
        "id": "0h9GDNuqXVMl"
      },
      "source": [
        "SVCpredict1= svc2.predict(X_test)"
      ],
      "execution_count": 61,
      "outputs": []
    },
    {
      "cell_type": "code",
      "metadata": {
        "colab": {
          "base_uri": "https://localhost:8080/"
        },
        "id": "64IyvEaCXRQO",
        "outputId": "d732566e-5628-481b-8cc0-8faf649b011e"
      },
      "source": [
        "#SVC training score\n",
        "print(svc2.score(X_train,y_train))"
      ],
      "execution_count": 62,
      "outputs": [
        {
          "output_type": "stream",
          "name": "stdout",
          "text": [
            "1.0\n"
          ]
        }
      ]
    },
    {
      "cell_type": "code",
      "metadata": {
        "colab": {
          "base_uri": "https://localhost:8080/"
        },
        "id": "MkT_vZWuXRQO",
        "outputId": "ad89b258-a66e-49c5-f371-88df68f92d3d"
      },
      "source": [
        "#SVC test score\n",
        "print(svc2.score(X_test,y_test))"
      ],
      "execution_count": 63,
      "outputs": [
        {
          "output_type": "stream",
          "name": "stdout",
          "text": [
            "1.0\n"
          ]
        }
      ]
    },
    {
      "cell_type": "code",
      "metadata": {
        "colab": {
          "base_uri": "https://localhost:8080/"
        },
        "id": "yCGQwMt4XRQO",
        "outputId": "ed817bef-623a-4ca4-a3f7-d899e97e8e19"
      },
      "source": [
        "confusionMatrixS2 = confusion_matrix(y_test,SVCpredict1)\n",
        "confusionMatrixS2"
      ],
      "execution_count": 64,
      "outputs": [
        {
          "output_type": "execute_result",
          "data": {
            "text/plain": [
              "array([[1, 0],\n",
              "       [0, 1]])"
            ]
          },
          "metadata": {},
          "execution_count": 64
        }
      ]
    },
    {
      "cell_type": "code",
      "metadata": {
        "colab": {
          "base_uri": "https://localhost:8080/",
          "height": 514
        },
        "id": "IQFX7Un9YB4m",
        "outputId": "865d747c-0430-43eb-92b7-87ade5901bf0"
      },
      "source": [
        "#visualize the Test set\n",
        "xx, yy = np.mgrid[-5:5:.01, -5:5:.01]\n",
        "grid = np.c_[xx.ravel(), yy.ravel()]\n",
        "probs = svc2.predict_proba(grid)[:, 1].reshape(xx.shape)\n",
        "\n",
        "print(probs)\n",
        "\n",
        "f, ax = plt.subplots(figsize=(8, 6))\n",
        "contour = ax.contourf(xx, yy, probs, 25, cmap=\"RdBu\",\n",
        " vmin=0, vmax=1)\n",
        "\n",
        "ax_c = f.colorbar(contour)\n",
        "ax_c.set_label(\"$P(y = 1)$\")\n",
        "ax_c.set_ticks([0, .25, .5, .75, 1])\n",
        "ax.scatter(X_test[:, 0], X_test[:, 1],c = (y_test == 1 ), s=50,\n",
        " cmap=\"RdBu\", vmin=-.2, vmax=1.2,\n",
        " edgecolor=\"white\", linewidth=1)\n",
        "\n",
        "ax.set(aspect=\"equal\",\n",
        " xlim=(-5, 5), ylim=(-5, 5),\n",
        " xlabel=\"$X_1$\", ylabel=\"$X_2$\")\n",
        "\n",
        "plt.show()"
      ],
      "execution_count": 65,
      "outputs": [
        {
          "output_type": "stream",
          "name": "stdout",
          "text": [
            "[[0.44064376 0.44064376 0.44064376 ... 0.44064373 0.44064373 0.44064373]\n",
            " [0.44064376 0.44064376 0.44064376 ... 0.44064373 0.44064373 0.44064373]\n",
            " [0.44064376 0.44064376 0.44064376 ... 0.44064373 0.44064373 0.44064373]\n",
            " ...\n",
            " [0.44064373 0.44064373 0.44064373 ... 0.44064363 0.44064364 0.44064364]\n",
            " [0.44064373 0.44064373 0.44064373 ... 0.44064364 0.44064364 0.44064364]\n",
            " [0.44064373 0.44064373 0.44064373 ... 0.44064364 0.44064364 0.44064365]]\n"
          ]
        },
        {
          "output_type": "display_data",
          "data": {
            "text/plain": [
              "<Figure size 576x432 with 2 Axes>"
            ],
            "image/png": "[encoded data removed]"
          },
          "metadata": {
            "needs_background": "light"
          }
        }
      ]
    },
    {
      "cell_type": "code",
      "metadata": {
        "id": "1rqk0bSFZXMV"
      },
      "source": [
        "# classify as features(Prefix_Suffix and URL_of_Anchor) and label with index 13\n",
        "X = phishingData.iloc[0:13,[6,14]].values\n",
        "y = phishingData.iloc[0:13,30].values"
      ],
      "execution_count": 66,
      "outputs": []
    },
    {
      "cell_type": "code",
      "metadata": {
        "id": "oXEGy-Pp0bjG"
      },
      "source": [
        "#split features and label into training and testing data\n",
        "X_train,X_test,y_train,y_test = train_test_split(X,y,test_size=0.3,random_state=4)"
      ],
      "execution_count": 67,
      "outputs": []
    },
    {
      "cell_type": "code",
      "metadata": {
        "id": "k3VHCTL20eHO"
      },
      "source": [
        "#perform feature scaling\n",
        "scalar = StandardScaler()\n",
        "X_train = scalar.fit_transform (X_train)\n",
        "X_test = scalar.transform (X_test)"
      ],
      "execution_count": 68,
      "outputs": []
    },
    {
      "cell_type": "code",
      "metadata": {
        "id": "2H7ijzsE0f-f"
      },
      "source": [
        "#Logistic Regression Classifier \n",
        "LRclassifier11 = LogisticRegression(C=100,random_state=0)\n",
        "LRclassifier11.fit(X_train,y_train)\n",
        "LRpredict11 = LRclassifier11.predict(X_test)"
      ],
      "execution_count": 69,
      "outputs": []
    },
    {
      "cell_type": "code",
      "metadata": {
        "id": "Rv6f6oxl0mQ3",
        "colab": {
          "base_uri": "https://localhost:8080/"
        },
        "outputId": "7d3f9fb5-85f7-4ee6-c339-311698c23614"
      },
      "source": [
        "#LRC training score\n",
        "LRclassifier11.score(X_train,y_train)"
      ],
      "execution_count": 70,
      "outputs": [
        {
          "output_type": "execute_result",
          "data": {
            "text/plain": [
              "0.8888888888888888"
            ]
          },
          "metadata": {},
          "execution_count": 70
        }
      ]
    },
    {
      "cell_type": "code",
      "metadata": {
        "id": "pvmzRJkM0osE",
        "colab": {
          "base_uri": "https://localhost:8080/"
        },
        "outputId": "2b4de75b-e4e3-4ba3-e28a-35e30be404b2"
      },
      "source": [
        "#LRC test score\n",
        "LRclassifier11.score(X_test,y_test)"
      ],
      "execution_count": 71,
      "outputs": [
        {
          "output_type": "execute_result",
          "data": {
            "text/plain": [
              "1.0"
            ]
          },
          "metadata": {},
          "execution_count": 71
        }
      ]
    },
    {
      "cell_type": "code",
      "metadata": {
        "id": "oZ_RGlO-0rAd"
      },
      "source": [
        "#confusion matrix for printing count of misclassified samples in the test data prediction\n",
        "LRconfusionMatrix11 = confusion_matrix(y_test,LRpredict11)"
      ],
      "execution_count": 72,
      "outputs": []
    },
    {
      "cell_type": "code",
      "metadata": {
        "id": "4IyW2D6R0tAN",
        "colab": {
          "base_uri": "https://localhost:8080/",
          "height": 622
        },
        "outputId": "d2d6273e-ea71-43bf-c049-51117da6d5ce"
      },
      "source": [
        "#visualize the Test set \n",
        "xx, yy = np.mgrid[-5:5:.01, -5:5:.01]\n",
        "grid = np.c_[xx.ravel(), yy.ravel()]\n",
        "probs = LRclassifier11.predict_proba(grid)[:, 1].reshape(xx.shape)\n",
        "\n",
        "print(probs)\n",
        "\n",
        "f, ax = plt.subplots(figsize=(8, 6))\n",
        "contour = ax.contourf(xx, yy, probs, 25, cmap=\"RdBu\",\n",
        " vmin=0, vmax=1)\n",
        "ax_c = f.colorbar(contour)\n",
        "ax_c.set_label(\"$P(y = 1)$\")\n",
        "ax_c.set_ticks([0, .25, .5, .75, 1])\n",
        "\n",
        "ax.scatter(X_test[:, 0], X_test[:, 1],c = (y_test == 1 ), s=50,\n",
        " cmap=\"RdBu\", vmin=-.2, vmax=1.2,\n",
        " edgecolor=\"white\", linewidth=1)\n",
        "\n",
        "ax.set(aspect=\"equal\",\n",
        " xlim=(-5, 5), ylim=(-5, 5),\n",
        " xlabel=\"$X_1$\", ylabel=\"$X_2$\")\n",
        "\n",
        "plt.show()"
      ],
      "execution_count": 73,
      "outputs": [
        {
          "output_type": "stream",
          "name": "stdout",
          "text": [
            "[[4.35180374e-07 4.39590919e-07 4.44046165e-07 ... 1.00132212e-02\n",
            "  1.01136787e-02 1.02151336e-02]\n",
            " [4.41905577e-07 4.46384282e-07 4.50908379e-07 ... 1.01663907e-02\n",
            "  1.02683689e-02 1.03713594e-02]\n",
            " [4.48734711e-07 4.53282629e-07 4.57876640e-07 ... 1.03218788e-02\n",
            "  1.04254003e-02 1.05299489e-02]\n",
            " ...\n",
            " [6.55234823e-01 6.57509234e-01 6.59776432e-01 ... 9.99977362e-01\n",
            "  9.99977589e-01 9.99977814e-01]\n",
            " [6.58690882e-01 6.60954291e-01 6.63210365e-01 ... 9.99977706e-01\n",
            "  9.99977930e-01 9.99978151e-01]\n",
            " [6.62130161e-01 6.64382383e-01 6.66627151e-01 ... 9.99978046e-01\n",
            "  9.99978266e-01 9.99978484e-01]]\n"
          ]
        },
        {
          "output_type": "display_data",
          "data": {
            "text/plain": [
              "<Figure size 576x432 with 2 Axes>"
            ],
            "image/png": "[encoded data removed]"
          },
          "metadata": {
            "needs_background": "light"
          }
        }
      ]
    },
    {
      "cell_type": "code",
      "metadata": {
        "id": "1qLa67aVac9J"
      },
      "source": [
        "#RFC\n",
        "RFclassifier11 = RandomForestClassifier(random_state=0)\n",
        "RFclassifier11.fit(X_train,y_train)\n",
        "RFpredict11 = RFclassifier11.predict(X_test)"
      ],
      "execution_count": 74,
      "outputs": []
    },
    {
      "cell_type": "code",
      "metadata": {
        "colab": {
          "base_uri": "https://localhost:8080/"
        },
        "id": "N1dOxig4ac9J",
        "outputId": "3cfb1781-ed2e-44f0-f23a-489160c5cf42"
      },
      "source": [
        "#RFC training score\n",
        "RFclassifier11.score(X_train,y_train)"
      ],
      "execution_count": 75,
      "outputs": [
        {
          "output_type": "execute_result",
          "data": {
            "text/plain": [
              "1.0"
            ]
          },
          "metadata": {},
          "execution_count": 75
        }
      ]
    },
    {
      "cell_type": "code",
      "metadata": {
        "colab": {
          "base_uri": "https://localhost:8080/"
        },
        "id": "DKoMiK_kac9J",
        "outputId": "a415d8b3-d163-4d60-c8a6-e7ddca939893"
      },
      "source": [
        "#RFC test score\n",
        "RFclassifier11.score(X_test,y_test)"
      ],
      "execution_count": 76,
      "outputs": [
        {
          "output_type": "execute_result",
          "data": {
            "text/plain": [
              "1.0"
            ]
          },
          "metadata": {},
          "execution_count": 76
        }
      ]
    },
    {
      "cell_type": "code",
      "metadata": {
        "id": "W12c26zZac9J"
      },
      "source": [
        "#confusion matrix for printing count of misclassified samples in the test data prediction\n",
        "RFconfusionMatrix11 = confusion_matrix(y_test,RFpredict11)"
      ],
      "execution_count": 77,
      "outputs": []
    },
    {
      "cell_type": "code",
      "metadata": {
        "colab": {
          "base_uri": "https://localhost:8080/",
          "height": 514
        },
        "id": "kZ916ocsac9K",
        "outputId": "b8378baf-4e77-4c31-a9a9-4f3011f26ddc"
      },
      "source": [
        "#visualize the Test set \n",
        "xx, yy = np.mgrid[-5:5:.01, -5:5:.01]\n",
        "grid = np.c_[xx.ravel(), yy.ravel()]\n",
        "probs = RFclassifier11.predict_proba(grid)[:, 1].reshape(xx.shape)\n",
        "\n",
        "print(probs)\n",
        "\n",
        "f, ax = plt.subplots(figsize=(8, 6))\n",
        "contour = ax.contourf(xx, yy, probs, 25, cmap=\"RdBu\",\n",
        " vmin=0, vmax=1)\n",
        "ax_c = f.colorbar(contour)\n",
        "ax_c.set_label(\"$P(y = 1)$\")\n",
        "ax_c.set_ticks([0, .25, .5, .75, 1])\n",
        "\n",
        "ax.scatter(X_test[:, 0], X_test[:, 1],c = (y_test == 1 ), s=50,\n",
        " cmap=\"RdBu\", vmin=-.2, vmax=1.2,\n",
        " edgecolor=\"white\", linewidth=1)\n",
        "\n",
        "ax.set(aspect=\"equal\",\n",
        " xlim=(-5, 5), ylim=(-5, 5),\n",
        " xlabel=\"$X_1$\", ylabel=\"$X_2$\")\n",
        "\n",
        "plt.show()"
      ],
      "execution_count": 78,
      "outputs": [
        {
          "output_type": "stream",
          "name": "stdout",
          "text": [
            "[[0.   0.   0.   ... 0.04 0.04 0.04]\n",
            " [0.   0.   0.   ... 0.04 0.04 0.04]\n",
            " [0.   0.   0.   ... 0.04 0.04 0.04]\n",
            " ...\n",
            " [0.09 0.09 0.09 ... 0.68 0.68 0.68]\n",
            " [0.09 0.09 0.09 ... 0.68 0.68 0.68]\n",
            " [0.09 0.09 0.09 ... 0.68 0.68 0.68]]\n"
          ]
        },
        {
          "output_type": "display_data",
          "data": {
            "text/plain": [
              "<Figure size 576x432 with 2 Axes>"
            ],
            "image/png": "[encoded data removed]"
          },
          "metadata": {
            "needs_background": "light"
          }
        }
      ]
    },
    {
      "cell_type": "code",
      "metadata": {
        "id": "fBEh1ma2aXH8"
      },
      "source": [
        "#XGBoost\n",
        "xgb11 = XGBClassifier(random_state=0)\n",
        "xgb11.fit(X_train,y_train)\n",
        "xgbpredict11 = xgb11.predict(X_test)"
      ],
      "execution_count": 79,
      "outputs": []
    },
    {
      "cell_type": "code",
      "metadata": {
        "id": "u27aMpJdcVSb",
        "colab": {
          "base_uri": "https://localhost:8080/"
        },
        "outputId": "75fab4e5-0119-4437-e716-b40942b83005"
      },
      "source": [
        "xgb11.score(X_train,y_train)"
      ],
      "execution_count": 80,
      "outputs": [
        {
          "output_type": "execute_result",
          "data": {
            "text/plain": [
              "0.7777777777777778"
            ]
          },
          "metadata": {},
          "execution_count": 80
        }
      ]
    },
    {
      "cell_type": "code",
      "metadata": {
        "id": "zDmLRI_qcVxU",
        "colab": {
          "base_uri": "https://localhost:8080/"
        },
        "outputId": "fd644754-d60e-4f46-9520-649cd668a4ad"
      },
      "source": [
        "xgb11.score(X_test,y_test)"
      ],
      "execution_count": 81,
      "outputs": [
        {
          "output_type": "execute_result",
          "data": {
            "text/plain": [
              "0.5"
            ]
          },
          "metadata": {},
          "execution_count": 81
        }
      ]
    },
    {
      "cell_type": "code",
      "metadata": {
        "id": "YZy-Mq-bcgbr",
        "colab": {
          "base_uri": "https://localhost:8080/"
        },
        "outputId": "709e977b-9074-4084-b9eb-da0eb8810b23"
      },
      "source": [
        "confusionMatrixXg2 = confusion_matrix(y_test,xgbpredict11)\n",
        "confusionMatrixXg2"
      ],
      "execution_count": 82,
      "outputs": [
        {
          "output_type": "execute_result",
          "data": {
            "text/plain": [
              "array([[2, 0],\n",
              "       [2, 0]])"
            ]
          },
          "metadata": {},
          "execution_count": 82
        }
      ]
    },
    {
      "cell_type": "code",
      "metadata": {
        "id": "9vIi2MDcc444",
        "colab": {
          "base_uri": "https://localhost:8080/",
          "height": 514
        },
        "outputId": "6a06c6a8-c57f-4a08-ab8b-61c2b1423396"
      },
      "source": [
        "#visualize the Test set \n",
        "xx, yy = np.mgrid[-5:5:.01, -5:5:.01]\n",
        "grid = np.c_[xx.ravel(), yy.ravel()]\n",
        "probs = xgb11.predict_proba(grid)[:, 1].reshape(xx.shape)\n",
        "\n",
        "print(probs)\n",
        "\n",
        "f, ax = plt.subplots(figsize=(8, 6))\n",
        "contour = ax.contourf(xx, yy, probs, 25, cmap=\"RdBu\",\n",
        " vmin=0, vmax=1)\n",
        "ax_c = f.colorbar(contour)\n",
        "ax_c.set_label(\"$P(y = 1)$\")\n",
        "ax_c.set_ticks([0, .25, .5, .75, 1])\n",
        "\n",
        "ax.scatter(X_test[:, 0], X_test[:, 1],c = (y_test == 1 ), s=50,\n",
        " cmap=\"RdBu\", vmin=-.2, vmax=1.2,\n",
        " edgecolor=\"white\", linewidth=1)\n",
        "\n",
        "ax.set(aspect=\"equal\",\n",
        " xlim=(-5, 5), ylim=(-5, 5),\n",
        " xlabel=\"$X_1$\", ylabel=\"$X_2$\")\n",
        "\n",
        "plt.show()"
      ],
      "execution_count": 83,
      "outputs": [
        {
          "output_type": "stream",
          "name": "stdout",
          "text": [
            "[[0.21519382 0.21519382 0.21519382 ... 0.21519382 0.21519382 0.21519382]\n",
            " [0.21519382 0.21519382 0.21519382 ... 0.21519382 0.21519382 0.21519382]\n",
            " [0.21519382 0.21519382 0.21519382 ... 0.21519382 0.21519382 0.21519382]\n",
            " ...\n",
            " [0.22861996 0.22861996 0.22861996 ... 0.22861996 0.22861996 0.22861996]\n",
            " [0.22861996 0.22861996 0.22861996 ... 0.22861996 0.22861996 0.22861996]\n",
            " [0.22861996 0.22861996 0.22861996 ... 0.22861996 0.22861996 0.22861996]]\n"
          ]
        },
        {
          "output_type": "display_data",
          "data": {
            "text/plain": [
              "<Figure size 576x432 with 2 Axes>"
            ],
            "image/png": "[encoded data removed]"
          },
          "metadata": {
            "needs_background": "light"
          }
        }
      ]
    },
    {
      "cell_type": "code",
      "metadata": {
        "id": "QHbtAhXNdNt1"
      },
      "source": [
        "Tree11 = DecisionTreeClassifier(random_state=0)\n",
        "# fit the model \n",
        "Tree11.fit(X_train, y_train)\n",
        "DTCpredict11= Tree11.predict(X_test)"
      ],
      "execution_count": 84,
      "outputs": []
    },
    {
      "cell_type": "code",
      "metadata": {
        "colab": {
          "base_uri": "https://localhost:8080/"
        },
        "id": "bpX7qmkBdNt2",
        "outputId": "93b1d4ce-93a0-44ff-f1e5-d5c7335d9650"
      },
      "source": [
        "#DTC training score\n",
        "print(Tree11.score(X_train,y_train))"
      ],
      "execution_count": 85,
      "outputs": [
        {
          "output_type": "stream",
          "name": "stdout",
          "text": [
            "1.0\n"
          ]
        }
      ]
    },
    {
      "cell_type": "code",
      "metadata": {
        "colab": {
          "base_uri": "https://localhost:8080/"
        },
        "id": "N1JVXcHmdNt2",
        "outputId": "f8f40668-9665-4c31-dd52-9d0bae847ca1"
      },
      "source": [
        "#Tree test score\n",
        "print(Tree11.score(X_test,y_test))"
      ],
      "execution_count": 86,
      "outputs": [
        {
          "output_type": "stream",
          "name": "stdout",
          "text": [
            "1.0\n"
          ]
        }
      ]
    },
    {
      "cell_type": "code",
      "metadata": {
        "colab": {
          "base_uri": "https://localhost:8080/"
        },
        "id": "qMrngjPTdNt2",
        "outputId": "aa178708-99db-4d99-86ca-315418e56387"
      },
      "source": [
        "confusionMatrixD11 = confusion_matrix(y_test,DTCpredict11)\n",
        "confusionMatrixD11"
      ],
      "execution_count": 87,
      "outputs": [
        {
          "output_type": "execute_result",
          "data": {
            "text/plain": [
              "array([[2, 0],\n",
              "       [0, 2]])"
            ]
          },
          "metadata": {},
          "execution_count": 87
        }
      ]
    },
    {
      "cell_type": "code",
      "metadata": {
        "colab": {
          "base_uri": "https://localhost:8080/",
          "height": 518
        },
        "id": "gkhoD3uTdNt2",
        "outputId": "1358e762-d816-4663-8012-191173bd3377"
      },
      "source": [
        "#visualize the Test set\n",
        "xx, yy = np.mgrid[-5:5:.01, -5:5:.01]\n",
        "grid = np.c_[xx.ravel(), yy.ravel()]\n",
        "probs = Tree11.predict_proba(grid)[:, 1].reshape(xx.shape)\n",
        "\n",
        "print(probs)\n",
        "\n",
        "f, ax = plt.subplots(figsize=(8, 6))\n",
        "contour = ax.contourf(xx, yy, probs, 25, cmap=\"RdBu\",\n",
        " vmin=0, vmax=1)\n",
        "\n",
        "ax_c = f.colorbar(contour)\n",
        "ax_c.set_label(\"$P(y = 1)$\")\n",
        "ax_c.set_ticks([0, .25, .5, .75, 1])\n",
        "ax.scatter(X_test[:, 0], X_test[:, 1],c = (y_test == 1 ), s=50,\n",
        " cmap=\"RdBu\", vmin=-.2, vmax=1.2,\n",
        " edgecolor=\"white\", linewidth=1)\n",
        "\n",
        "ax.set(aspect=\"equal\",\n",
        " xlim=(-5, 5), ylim=(-5, 5),\n",
        " xlabel=\"$X_1$\", ylabel=\"$X_2$\")\n",
        "\n",
        "plt.show()"
      ],
      "execution_count": 88,
      "outputs": [
        {
          "output_type": "stream",
          "name": "stdout",
          "text": [
            "[[0. 0. 0. ... 0. 0. 0.]\n",
            " [0. 0. 0. ... 0. 0. 0.]\n",
            " [0. 0. 0. ... 0. 0. 0.]\n",
            " ...\n",
            " [0. 0. 0. ... 1. 1. 1.]\n",
            " [0. 0. 0. ... 1. 1. 1.]\n",
            " [0. 0. 0. ... 1. 1. 1.]]\n"
          ]
        },
        {
          "output_type": "display_data",
          "data": {
            "text/plain": [
              "<Figure size 576x432 with 2 Axes>"
            ],
            "image/png": "[encoded data removed]"
          },
          "metadata": {
            "needs_background": "light"
          }
        }
      ]
    },
    {
      "cell_type": "code",
      "metadata": {
        "id": "aFWaDo03dNt2"
      },
      "source": [
        "svc11= SVC(probability=True,random_state=0) \n",
        "#fit the model\n",
        "svc11.fit(X_train, y_train)\n",
        "SVCpredict11= svc11.predict(X_test)"
      ],
      "execution_count": 89,
      "outputs": []
    },
    {
      "cell_type": "code",
      "metadata": {
        "id": "464vWCamdNt3"
      },
      "source": [
        "SVCpredict11= svc11.predict(X_test)"
      ],
      "execution_count": 90,
      "outputs": []
    },
    {
      "cell_type": "code",
      "metadata": {
        "colab": {
          "base_uri": "https://localhost:8080/"
        },
        "id": "IBlXNJUKdNt3",
        "outputId": "bfeae0c9-49e1-486d-cf07-c8cf0a6dc908"
      },
      "source": [
        "#SVC training score\n",
        "print(svc11.score(X_train,y_train))"
      ],
      "execution_count": 91,
      "outputs": [
        {
          "output_type": "stream",
          "name": "stdout",
          "text": [
            "0.7777777777777778\n"
          ]
        }
      ]
    },
    {
      "cell_type": "code",
      "metadata": {
        "colab": {
          "base_uri": "https://localhost:8080/"
        },
        "id": "E_tQq8ledNt3",
        "outputId": "2958e6ca-0f1a-474d-a97f-9ea0eeac222f"
      },
      "source": [
        "#SVC test score\n",
        "print(svc11.score(X_test,y_test))"
      ],
      "execution_count": 92,
      "outputs": [
        {
          "output_type": "stream",
          "name": "stdout",
          "text": [
            "0.5\n"
          ]
        }
      ]
    },
    {
      "cell_type": "code",
      "metadata": {
        "colab": {
          "base_uri": "https://localhost:8080/"
        },
        "id": "Z5nCv7M2dNt3",
        "outputId": "e355309f-c861-4662-821f-7236e0b343b0"
      },
      "source": [
        "confusionMatrixS11 = confusion_matrix(y_test,SVCpredict11)\n",
        "confusionMatrixS11"
      ],
      "execution_count": 93,
      "outputs": [
        {
          "output_type": "execute_result",
          "data": {
            "text/plain": [
              "array([[2, 0],\n",
              "       [2, 0]])"
            ]
          },
          "metadata": {},
          "execution_count": 93
        }
      ]
    },
    {
      "cell_type": "code",
      "metadata": {
        "colab": {
          "base_uri": "https://localhost:8080/",
          "height": 514
        },
        "id": "j2DXLDqsdNt3",
        "outputId": "30fd0f85-1a29-4e55-bbc7-16f3b76cdc3d"
      },
      "source": [
        "#visualize the Test set\n",
        "xx, yy = np.mgrid[-5:5:.01, -5:5:.01]\n",
        "grid = np.c_[xx.ravel(), yy.ravel()]\n",
        "probs = svc11.predict_proba(grid)[:, 1].reshape(xx.shape)\n",
        "\n",
        "print(probs)\n",
        "\n",
        "f, ax = plt.subplots(figsize=(8, 6))\n",
        "contour = ax.contourf(xx, yy, probs, 25, cmap=\"RdBu\",\n",
        " vmin=0, vmax=1)\n",
        "\n",
        "ax_c = f.colorbar(contour)\n",
        "ax_c.set_label(\"$P(y = 1)$\")\n",
        "ax_c.set_ticks([0, .25, .5, .75, 1])\n",
        "ax.scatter(X_test[:, 0], X_test[:, 1],c = (y_test == 1 ), s=50,\n",
        " cmap=\"RdBu\", vmin=-.2, vmax=1.2,\n",
        " edgecolor=\"white\", linewidth=1)\n",
        "\n",
        "ax.set(aspect=\"equal\",\n",
        " xlim=(-5, 5), ylim=(-5, 5),\n",
        " xlabel=\"$X_1$\", ylabel=\"$X_2$\")\n",
        "\n",
        "plt.show()"
      ],
      "execution_count": 94,
      "outputs": [
        {
          "output_type": "stream",
          "name": "stdout",
          "text": [
            "[[0.23993011 0.23993011 0.23993011 ... 0.23993011 0.23993011 0.23993011]\n",
            " [0.23993011 0.23993011 0.23993011 ... 0.23993011 0.23993011 0.23993011]\n",
            " [0.23993011 0.23993011 0.23993011 ... 0.23993011 0.23993011 0.23993011]\n",
            " ...\n",
            " [0.23993023 0.23993024 0.23993024 ... 0.23992943 0.23992945 0.23992947]\n",
            " [0.23993023 0.23993023 0.23993024 ... 0.23992945 0.23992947 0.2399295 ]\n",
            " [0.23993022 0.23993023 0.23993023 ... 0.23992947 0.23992949 0.23992952]]\n"
          ]
        },
        {
          "output_type": "display_data",
          "data": {
            "text/plain": [
              "<Figure size 576x432 with 2 Axes>"
            ],
            "image/png": "[encoded data removed]"
          },
          "metadata": {
            "needs_background": "light"
          }
        }
      ]
    }
  ]
}